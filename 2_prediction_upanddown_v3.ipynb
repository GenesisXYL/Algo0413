{
 "cells": [
  {
   "cell_type": "markdown",
   "metadata": {},
   "source": [
    "Modifications:\n",
    "\n",
    "1. Turn different models into another file, and VWAP should import the models to read models.\n",
    "2. Rewrite VWAP LSTM factor"
   ]
  },
  {
   "cell_type": "code",
   "execution_count": 1,
   "metadata": {},
   "outputs": [
    {
     "name": "stderr",
     "output_type": "stream",
     "text": [
      "Using TensorFlow backend.\n"
     ]
    }
   ],
   "source": [
    "import pandas as pd\n",
    "import numpy as np\n",
    "import matplotlib.pyplot as plt\n",
    "from sklearn.preprocessing import StandardScaler\n",
    "from keras.models import Sequential\n",
    "from keras.layers import LSTM, Dense, Activation\n",
    "from keras.callbacks import EarlyStopping\n",
    "\n",
    "from sklearn.model_selection import train_test_split\n",
    "import keras\n",
    "import pickle"
   ]
  },
  {
   "cell_type": "code",
   "execution_count": 2,
   "metadata": {},
   "outputs": [],
   "source": [
    "import os\n",
    "\n",
    "data_dir=\"./data/\"\n",
    "ticker=\"TSLA\"\n",
    "\n",
    "date_pool=pd.date_range(\"1/1/2019\",\"1/31/2019\",freq=\"B\").strftime(\"%Y%m%d\")\n",
    "date_pool=[d for d in date_pool if os.path.exists(data_dir+\"trades_{}_{}.csv\".format(d,ticker))]\n",
    "\n",
    "train_days=10\n",
    "train_date_list=date_pool[:train_days]\n",
    "test_date_list=date_pool[train_days+1:]\n",
    "time_steps = 50\n",
    "\n",
    "nforward=10"
   ]
  },
  {
   "cell_type": "code",
   "execution_count": 3,
   "metadata": {},
   "outputs": [],
   "source": [
    "class Pipeline():\n",
    "    def __init__(self):\n",
    "        self.x = None\n",
    "        self.y = None\n",
    "        self.scaler = None\n",
    "    def load_data(self, ticker, date):\n",
    "        df = pd.read_csv(data_dir+'trades_{}_{}.csv'.format(date, ticker),index_col=[0],parse_dates=[0])\n",
    "\n",
    "        # Feature Engineering\n",
    "        df[\"direction\"]=(df[\"trade_px\"]-df[\"trade_px\"].shift(1)).apply(np.sign)\n",
    "        df[\"pct_change\"]=df[\"trade_px\"].pct_change()\n",
    "\n",
    "        mysign=lambda x: 0 if abs(x)<1e-5 else (1 if x>0 else -1)\n",
    "        df[\"label\"]=(df[\"trade_px\"].rolling(nforward).mean().shift(-nforward)-df[\"trade_px\"]).apply(mysign)\n",
    "        # df[\"label\"]=(df[\"trade_px\"].shift(-1)-df[\"trade_px\"]).apply(np.sign) # last version\n",
    "\n",
    "        df.fillna(method=\"ffill\",inplace=True)\n",
    "        df.dropna(axis=0,inplace=True)\n",
    "        # print(df.head(10),df.shape)\n",
    "        # print(\"NaN number: \",df.isna().sum().sum())\n",
    "\n",
    "        return df[[\"trade_px\",\"trade_size\",\"pct_change\",\"direction\",\"label\"]].values\n",
    "\n",
    "    def create_dataset(self, ticker=ticker, dates=train_date_list, time_steps = time_steps, input_scaler=None):  \n",
    "        for i,d in enumerate(dates):\n",
    "            datanew = self.load_data(ticker,d)\n",
    "            if i==0:\n",
    "                data=datanew\n",
    "            else:\n",
    "                data=np.vstack((data, datanew))\n",
    "\n",
    "        label=data[:,-1]\n",
    "        data=data[:,:-1]\n",
    "\n",
    "        if input_scaler is None:\n",
    "            scaler=StandardScaler()\n",
    "            data=scaler.fit_transform(data)\n",
    "        else:\n",
    "            data=input_scaler.transform(data)\n",
    "            scaler=input_scaler\n",
    "\n",
    "        x = [data[0 : time_steps]]\n",
    "        y = [label[time_steps-1]]\n",
    "        N=len(data)//time_steps\n",
    "\n",
    "        print(N)\n",
    "        for i in range(1, N):\n",
    "            t = data[i*time_steps: (i + 1)*time_steps]\n",
    "            x = np.vstack((x, [t]))\n",
    "            y.append(label[(i + 1)*time_steps-1])\n",
    "\n",
    "        y=pd.get_dummies(y)\n",
    "        #print(y)\n",
    "\n",
    "        return x,y.values,scaler\n",
    "\n",
    "    def loss_plot(self, history, plot_name = 'Loss'): # type(history) is dict\n",
    "        loss = np.asarray(history['loss'])\n",
    "        val_loss = np.asarray(history['val_loss'])\n",
    "\n",
    "        plt.style.use('seaborn')\n",
    "        plt.figure(figsize = (20,6), dpi=dpi)\n",
    "        plt.grid(True)\n",
    "        plt.plot(loss, color = 'darkgrey')\n",
    "        plt.plot(val_loss, color = 'tan')\n",
    "        plt.legend(['loss', 'val_loss'])\n",
    "        # plt.savefig('{}_{}_{}_{}_{}.png'.format(ticker, plot_name, str(n_epochs), str(time_steps), str(batch_size)))\n",
    "    \n",
    "    \n",
    "    def training_data_transform(self, ticker):\n",
    "        # Load train data\n",
    "        x, y, scaler = self.create_dataset(ticker)\n",
    "        self.x, self.y, self.scaler = x, y, scaler\n",
    "        print(\"Finished loading data.\")\n",
    "\n",
    "        with open(\"model/scaler_{}_{}.p\".format(train_date_list[0],train_date_list[-1]),\"wb\") as f:\n",
    "            pickle.dump(scaler,f)\n",
    "\n",
    "    def model_training_testing(self, ticker, model, plot = False):\n",
    "        # Model Training pipeline\n",
    "        model_functionalities = Model_Functionalities(model)\n",
    "        \n",
    "        x, y, scaler = self.x, self.y, self.scaler\n",
    "        \n",
    "        if x is None:\n",
    "            print(\"None Training data processed\")\n",
    "            return\n",
    "        \n",
    "        # Build model, in-sample train test\n",
    "        train_history = model_functionalities.train_test(x, y, plot)  \n",
    "        if model_functionalities.model.model_name == \"LSTM\":\n",
    "            if plot == True:\n",
    "                self.loss_plot(train_history.history)\n",
    "\n",
    "        with open(\"model/\" + model.model_name + \"_{}_{}.p\".format(train_date_list[0],train_date_list[-1]),\"wb\") as f:\n",
    "            pickle.dump(model,f)\n",
    "\n",
    "        # Out-of-sample test\n",
    "        for test_date in test_date_list:\n",
    "            # create test dateset\n",
    "            x_test, y_test, _ = self.create_dataset(ticker=ticker, dates=[test_date], time_steps = time_steps, input_scaler=scaler)\n",
    "            x_test, y_test = model_functionalities.model.reshape_dataset(x_test, y_test)\n",
    "\n",
    "            # use precious trained model to test\n",
    "            y_test_pred = model_functionalities.predict(x_test)\n",
    "            if model_functionalities.model.model_name == \"LSTM\":\n",
    "                if plot == True:\n",
    "                    model_functionalities.view_accuracy(y_test_pred.argmax(axis=1), y_test.argmax(axis=1))\n",
    "            if y_test.shape[1] != 1:\n",
    "                accuracy = np.mean(y_test_pred.argmax(axis=1)==y_test.argmax(axis=1))\n",
    "            else:\n",
    "                accuracy = np.mean(y_test_pred==y_test)\n",
    "            print(test_date+\" accuracy: \", accuracy)\n",
    "        return model_functionalities.model"
   ]
  },
  {
   "cell_type": "code",
   "execution_count": 4,
   "metadata": {},
   "outputs": [
    {
     "name": "stdout",
     "output_type": "stream",
     "text": [
      "15154\n",
      "Finished loading data.\n"
     ]
    }
   ],
   "source": [
    "pipeline = Pipeline()\n",
    "pipeline.training_data_transform(ticker)"
   ]
  },
  {
   "cell_type": "code",
   "execution_count": 5,
   "metadata": {},
   "outputs": [],
   "source": [
    "class Model_Functionalities():\n",
    "    def __init__(self, model):\n",
    "        self.model = model\n",
    "    def train_test(self, x, y, plot = False):\n",
    "        \n",
    "        size = len(x)\n",
    "        if size!=len(y):\n",
    "            return None\n",
    "        x = x[: batch_size * (size // batch_size)]\n",
    "        y = y[: batch_size * (size // batch_size)]\n",
    "        \n",
    "        x, y = self.model.reshape_dataset(x, y)\n",
    "\n",
    "        x_train, x_validation, y_train, y_validation= train_test_split(x, y, test_size = 0.1, shuffle = True)\n",
    "        print('train', x_train.shape, y_train.shape)\n",
    "        print('validation', x_validation.shape, y_validation.shape)\n",
    "        \n",
    "        \n",
    "        if self.model.model_name == \"LSTM\" or  self.model.model_name == \"CNN\":\n",
    "            early_stopping = EarlyStopping(monitor='val_loss', patience=stop_patience, mode=\"min\", verbose=2, restore_best_weights=True)\n",
    "            history = self.model.fit(x_train, y_train, batch_size = batch_size, epochs = n_epochs,\n",
    "                                     validation_data=(x_validation, y_validation),callbacks=[early_stopping])\n",
    "        else:\n",
    "            self.model.fit(x_train, y_train)\n",
    "        \n",
    "        self.y_pred = self.model.predict(x_validation)\n",
    "        self.y_validation_true = y_validation\n",
    "        \n",
    "        if plot == True:\n",
    "            if y.shape[1] != 1:\n",
    "                self.train_plot = self.view_accuracy(self.predict(x_train).argmax(axis=1), y_train.argmax(axis=1), 'Train')\n",
    "                self.validation_plot = self.view_accuracy(self.predict(x_validation).argmax(axis=1), y_validation.argmax(axis=1), 'Validation')\n",
    "            else:\n",
    "                self.train_plot = self.view_accuracy(self.predict(x_train), y_train, 'Train')\n",
    "                self.validation_plot = self.view_accuracy(self.predict(x_validation), y_validation, 'Validation')\n",
    "        if self.model.model_name == \"LSTM\":\n",
    "            return history\n",
    "\n",
    "    def predict(self, x_validation):\n",
    "        pred = self.model.predict(x_validation)\n",
    "        return pred\n",
    "    \n",
    "    def view_accuracy(self, y_pred = None, y_true = None, plot_name = 'Test', num=100):\n",
    "        if y_pred is None:\n",
    "            y_pred = self.y_pred.argmax(axis=1)\n",
    "            y_true = self.y_validation_true.argmax(axis=1)\n",
    "        \n",
    "        plt.style.use('seaborn')\n",
    "        plt.figure(figsize = (20,6), dpi=dpi)\n",
    "        plt.grid(True)\n",
    "        plt.plot(y_pred[:num], color = 'lightcoral')\n",
    "        plt.plot(y_true[:num], color = 'cornflowerblue', linewidth = 1)\n",
    "        plt.title('{}_{}'.format(ticker, plot_name))\n",
    "        plt.legend(['predict', 'true'])"
   ]
  },
  {
   "cell_type": "markdown",
   "metadata": {},
   "source": [
    "# Using LSTM to predict next up and down\n",
    "## v2: Predict up and downs of the average of $\\mathbf{nforward}=10$ following prices\n",
    "\n",
    "1. Too slow to predict (next trade may happen in millisecond)\n",
    "2. Only classification of up, down and same. No quantitative prediction (can be improved to predict quantity of price movement)"
   ]
  },
  {
   "cell_type": "code",
   "execution_count": 13,
   "metadata": {},
   "outputs": [],
   "source": [
    "hidden_dim = 30\n",
    "n_epochs = 100\n",
    "batch_size = 128\n",
    "activation = \"tanh\"\n",
    "loss = 'categorical_crossentropy'\n",
    "stop_patience=20\n",
    "\n",
    "dpi=200\n",
    "\n",
    "\n",
    "class LSTM_Model():\n",
    "    def __init__(self):\n",
    "        self.model = Sequential()\n",
    "        self.model_name = \"LSTM\"\n",
    "        return \n",
    "    \n",
    "    def build(self,  time_steps = time_steps, data_dim = 1, output_dim = 3):\n",
    "        # expected input batch shape: (batch_size, timesteps, data_dim)\n",
    "        # the sample of index i in batch k is the follow-up for the sample i in batch k-1.\n",
    "        self.model.add(LSTM(hidden_dim, activation=activation, return_sequences=True, input_shape=(time_steps, data_dim)))\n",
    "        #self.model.add(LSTM(hidden_dim, activation=activation, return_sequences=True))\n",
    "        self.model.add(LSTM(hidden_dim, activation=activation))\n",
    "        self.model.add(Dense(output_dim, activation = 'softmax'))\n",
    "        \n",
    "        opt=keras.optimizers.Adam(lr=0.001, beta_1=0.9, beta_2=0.999, epsilon=1e-08)\n",
    "        self.model.compile(loss = loss, optimizer=opt, metrics=['accuracy']) \n",
    "        return self.model\n",
    "    \n",
    "    def fit(self, x_train, y_train, batch_size, epochs, validation_data, callbacks):\n",
    "        return self.model.fit(x_train, y_train, batch_size = batch_size, epochs = epochs, validation_data = validation_data, callbacks = callbacks)\n",
    "    \n",
    "    def predict(self, x):\n",
    "        return self.model.predict(x)\n",
    "    \n",
    "    def reshape_dataset(self, x, y):\n",
    "        if x is not None:\n",
    "            if len(x.shape) == 2:\n",
    "                x = x.reshape(x.shape[0], x.shape[1], 1)\n",
    "        if len(y.shape) == 1:\n",
    "            y = y.reshape(y.shape[0],1)\n",
    "        return x, y \n",
    "\n",
    "\n",
    "\n",
    "#         if plot_name == 'Test':\n",
    "#             plt.savefig('{}_{}_{}_{}.png'.format(ticker, plot_name, str(time_steps), str(batch_size)))\n",
    "#         else:\n",
    "#             plt.savefig('{}_{}_{}_{}.png'.format(ticker, plot_name, str(time_steps), str(batch_size)))\n"
   ]
  },
  {
   "cell_type": "code",
   "execution_count": 14,
   "metadata": {},
   "outputs": [
    {
     "name": "stdout",
     "output_type": "stream",
     "text": [
      "train (13593, 50, 4) (13593, 3)\n",
      "validation (1511, 50, 4) (1511, 3)\n",
      "Train on 13593 samples, validate on 1511 samples\n",
      "Epoch 1/100\n",
      "13593/13593 [==============================] - 31s 2ms/step - loss: 0.8631 - accuracy: 0.5072 - val_loss: 0.7998 - val_accuracy: 0.5725\n",
      "Epoch 2/100\n",
      "13593/13593 [==============================] - 29s 2ms/step - loss: 0.8071 - accuracy: 0.5597 - val_loss: 0.7609 - val_accuracy: 0.6036\n",
      "Epoch 3/100\n",
      "13593/13593 [==============================] - 30s 2ms/step - loss: 0.7721 - accuracy: 0.5768 - val_loss: 0.7366 - val_accuracy: 0.6003\n",
      "Epoch 4/100\n",
      "13593/13593 [==============================] - 30s 2ms/step - loss: 0.7567 - accuracy: 0.5815 - val_loss: 0.7355 - val_accuracy: 0.5857\n",
      "Epoch 5/100\n",
      "13593/13593 [==============================] - 29s 2ms/step - loss: 0.7512 - accuracy: 0.5844 - val_loss: 0.7296 - val_accuracy: 0.6016\n",
      "Epoch 6/100\n",
      "13593/13593 [==============================] - 30s 2ms/step - loss: 0.7468 - accuracy: 0.5906 - val_loss: 0.7330 - val_accuracy: 0.5857\n",
      "Epoch 7/100\n",
      "13593/13593 [==============================] - 30s 2ms/step - loss: 0.7434 - accuracy: 0.5915 - val_loss: 0.7241 - val_accuracy: 0.6042\n",
      "Epoch 8/100\n",
      "13593/13593 [==============================] - 31s 2ms/step - loss: 0.7417 - accuracy: 0.5919 - val_loss: 0.7364 - val_accuracy: 0.5791\n",
      "Epoch 9/100\n",
      "13593/13593 [==============================] - 31s 2ms/step - loss: 0.7392 - accuracy: 0.5939 - val_loss: 0.7222 - val_accuracy: 0.6128\n",
      "Epoch 10/100\n",
      "13593/13593 [==============================] - 32s 2ms/step - loss: 0.7395 - accuracy: 0.5913 - val_loss: 0.7209 - val_accuracy: 0.6128\n",
      "Epoch 11/100\n",
      "13593/13593 [==============================] - 30s 2ms/step - loss: 0.7364 - accuracy: 0.5955 - val_loss: 0.7230 - val_accuracy: 0.6009\n",
      "Epoch 12/100\n",
      "13593/13593 [==============================] - 32s 2ms/step - loss: 0.7353 - accuracy: 0.5921 - val_loss: 0.7224 - val_accuracy: 0.6036\n",
      "Epoch 13/100\n",
      "13593/13593 [==============================] - 33s 2ms/step - loss: 0.7342 - accuracy: 0.5920 - val_loss: 0.7209 - val_accuracy: 0.6089\n",
      "Epoch 14/100\n",
      "13593/13593 [==============================] - 31s 2ms/step - loss: 0.7337 - accuracy: 0.5972 - val_loss: 0.7164 - val_accuracy: 0.6075\n",
      "Epoch 15/100\n",
      "13593/13593 [==============================] - 32s 2ms/step - loss: 0.7321 - accuracy: 0.5917 - val_loss: 0.7181 - val_accuracy: 0.6115\n",
      "Epoch 16/100\n",
      "13593/13593 [==============================] - 32s 2ms/step - loss: 0.7314 - accuracy: 0.5952 - val_loss: 0.7174 - val_accuracy: 0.6155\n",
      "Epoch 17/100\n",
      "13593/13593 [==============================] - 31s 2ms/step - loss: 0.7295 - accuracy: 0.5980 - val_loss: 0.7144 - val_accuracy: 0.6128\n",
      "Epoch 18/100\n",
      "13593/13593 [==============================] - 33s 2ms/step - loss: 0.7283 - accuracy: 0.5969 - val_loss: 0.7175 - val_accuracy: 0.6168\n",
      "Epoch 19/100\n",
      "13593/13593 [==============================] - 32s 2ms/step - loss: 0.7297 - accuracy: 0.5921 - val_loss: 0.7233 - val_accuracy: 0.6155\n",
      "Epoch 20/100\n",
      "13593/13593 [==============================] - 32s 2ms/step - loss: 0.7278 - accuracy: 0.5966 - val_loss: 0.7219 - val_accuracy: 0.6095\n",
      "Epoch 21/100\n",
      "13593/13593 [==============================] - 33s 2ms/step - loss: 0.7267 - accuracy: 0.6021 - val_loss: 0.7165 - val_accuracy: 0.6089\n",
      "Epoch 22/100\n",
      "13593/13593 [==============================] - 32s 2ms/step - loss: 0.7265 - accuracy: 0.5970 - val_loss: 0.7207 - val_accuracy: 0.6181\n",
      "Epoch 23/100\n",
      "13593/13593 [==============================] - 33s 2ms/step - loss: 0.7256 - accuracy: 0.5988 - val_loss: 0.7213 - val_accuracy: 0.6122\n",
      "Epoch 24/100\n",
      "13593/13593 [==============================] - 33s 2ms/step - loss: 0.7249 - accuracy: 0.6010 - val_loss: 0.7155 - val_accuracy: 0.6254\n",
      "Epoch 25/100\n",
      "13593/13593 [==============================] - 35s 3ms/step - loss: 0.7236 - accuracy: 0.6003 - val_loss: 0.7171 - val_accuracy: 0.6228\n",
      "Epoch 26/100\n",
      "13593/13593 [==============================] - 36s 3ms/step - loss: 0.7236 - accuracy: 0.6021 - val_loss: 0.7166 - val_accuracy: 0.6181\n",
      "Epoch 27/100\n",
      "13593/13593 [==============================] - 34s 3ms/step - loss: 0.7234 - accuracy: 0.6029 - val_loss: 0.7183 - val_accuracy: 0.6089\n",
      "Epoch 28/100\n",
      "13593/13593 [==============================] - 41s 3ms/step - loss: 0.7215 - accuracy: 0.6015 - val_loss: 0.7215 - val_accuracy: 0.6155\n",
      "Epoch 29/100\n",
      "13593/13593 [==============================] - 35s 3ms/step - loss: 0.7211 - accuracy: 0.6050 - val_loss: 0.7202 - val_accuracy: 0.6109\n",
      "Epoch 30/100\n",
      "13593/13593 [==============================] - 33s 2ms/step - loss: 0.7215 - accuracy: 0.6014 - val_loss: 0.7156 - val_accuracy: 0.6195\n",
      "Epoch 31/100\n",
      "13593/13593 [==============================] - 34s 2ms/step - loss: 0.7191 - accuracy: 0.6043 - val_loss: 0.7220 - val_accuracy: 0.6082\n",
      "Epoch 32/100\n",
      "13593/13593 [==============================] - 33s 2ms/step - loss: 0.7180 - accuracy: 0.6072 - val_loss: 0.7190 - val_accuracy: 0.6148\n",
      "Epoch 33/100\n",
      "13593/13593 [==============================] - 33s 2ms/step - loss: 0.7166 - accuracy: 0.6087 - val_loss: 0.7233 - val_accuracy: 0.6122\n",
      "Epoch 34/100\n",
      "13593/13593 [==============================] - 32s 2ms/step - loss: 0.7150 - accuracy: 0.6092 - val_loss: 0.7255 - val_accuracy: 0.6095\n",
      "Epoch 35/100\n",
      "13593/13593 [==============================] - 35s 3ms/step - loss: 0.7144 - accuracy: 0.6089 - val_loss: 0.7193 - val_accuracy: 0.6188\n",
      "Epoch 36/100\n",
      "13593/13593 [==============================] - 33s 2ms/step - loss: 0.7135 - accuracy: 0.6088 - val_loss: 0.7231 - val_accuracy: 0.6228\n",
      "Epoch 37/100\n",
      "13593/13593 [==============================] - 34s 2ms/step - loss: 0.7122 - accuracy: 0.6087 - val_loss: 0.7285 - val_accuracy: 0.6009\n",
      "Restoring model weights from the end of the best epoch\n",
      "Epoch 00037: early stopping\n",
      "808\n",
      "20190117 accuracy:  0.5903465346534653\n",
      "5342\n",
      "20190118 accuracy:  0.6301010857356795\n",
      "2570\n",
      "20190122 accuracy:  0.6171206225680934\n",
      "2944\n",
      "20190123 accuracy:  0.6171875\n",
      "1759\n",
      "20190124 accuracy:  0.5946560545764639\n",
      "1610\n",
      "20190125 accuracy:  0.5937888198757764\n",
      "1428\n",
      "20190128 accuracy:  0.5868347338935574\n",
      "1034\n",
      "20190129 accuracy:  0.5957446808510638\n",
      "2164\n",
      "20190130 accuracy:  0.5854898336414048\n",
      "2679\n",
      "20190131 accuracy:  0.6166480029861888\n"
     ]
    },
    {
     "data": {
      "text/plain": [
       "<__main__.LSTM_Model at 0x1a69b53dd0>"
      ]
     },
     "execution_count": 14,
     "metadata": {},
     "output_type": "execute_result"
    }
   ],
   "source": [
    "lstm_model = LSTM_Model()\n",
    "lstm_model.build(time_steps = time_steps, data_dim = pipeline.x.shape[-1], output_dim = pipeline.y.shape[-1])\n",
    "pipeline.model_training_testing(ticker, lstm_model)"
   ]
  },
  {
   "cell_type": "code",
   "execution_count": 15,
   "metadata": {},
   "outputs": [
    {
     "name": "stdout",
     "output_type": "stream",
     "text": [
      "(15154, 50, 4) (15154, 3)\n"
     ]
    }
   ],
   "source": [
    "print(pipeline.x.shape, pipeline.y.shape)"
   ]
  },
  {
   "cell_type": "markdown",
   "metadata": {},
   "source": [
    "# CNN"
   ]
  },
  {
   "cell_type": "code",
   "execution_count": 16,
   "metadata": {},
   "outputs": [],
   "source": [
    "from keras.layers import Dense, Conv2D, Flatten, Dropout\n",
    "from keras import regularizers"
   ]
  },
  {
   "cell_type": "code",
   "execution_count": 18,
   "metadata": {},
   "outputs": [
    {
     "name": "stdout",
     "output_type": "stream",
     "text": [
      "train (13593, 50, 4, 1) (13593, 3)\n",
      "validation (1511, 50, 4, 1) (1511, 3)\n",
      "Train on 13593 samples, validate on 1511 samples\n",
      "Epoch 1/100\n",
      "13593/13593 [==============================] - 4s 266us/step - loss: 0.8572 - accuracy: 0.4842 - val_loss: 0.8251 - val_accuracy: 0.4752\n",
      "Epoch 2/100\n",
      "13593/13593 [==============================] - 3s 193us/step - loss: 0.8065 - accuracy: 0.5347 - val_loss: 0.7926 - val_accuracy: 0.5473\n",
      "Epoch 3/100\n",
      "13593/13593 [==============================] - 3s 200us/step - loss: 0.7744 - accuracy: 0.5775 - val_loss: 0.7802 - val_accuracy: 0.5619\n",
      "Epoch 4/100\n",
      "13593/13593 [==============================] - 3s 210us/step - loss: 0.7617 - accuracy: 0.5893 - val_loss: 0.7772 - val_accuracy: 0.5705\n",
      "Epoch 5/100\n",
      "13593/13593 [==============================] - 3s 215us/step - loss: 0.7542 - accuracy: 0.5910 - val_loss: 0.7735 - val_accuracy: 0.5625\n",
      "Epoch 6/100\n",
      "13593/13593 [==============================] - 3s 215us/step - loss: 0.7499 - accuracy: 0.5927 - val_loss: 0.7728 - val_accuracy: 0.5639\n",
      "Epoch 7/100\n",
      "13593/13593 [==============================] - 3s 220us/step - loss: 0.7471 - accuracy: 0.5922 - val_loss: 0.7742 - val_accuracy: 0.5632\n",
      "Epoch 8/100\n",
      "13593/13593 [==============================] - 3s 225us/step - loss: 0.7427 - accuracy: 0.5999 - val_loss: 0.7821 - val_accuracy: 0.5559\n",
      "Epoch 9/100\n",
      "13593/13593 [==============================] - 3s 224us/step - loss: 0.7418 - accuracy: 0.5975 - val_loss: 0.7784 - val_accuracy: 0.5579\n",
      "Epoch 10/100\n",
      "13593/13593 [==============================] - 3s 224us/step - loss: 0.7399 - accuracy: 0.6036 - val_loss: 0.7769 - val_accuracy: 0.5652\n",
      "Epoch 11/100\n",
      "13593/13593 [==============================] - 3s 224us/step - loss: 0.7381 - accuracy: 0.6012 - val_loss: 0.7800 - val_accuracy: 0.5566\n",
      "Epoch 12/100\n",
      "13593/13593 [==============================] - 3s 219us/step - loss: 0.7357 - accuracy: 0.6027 - val_loss: 0.7758 - val_accuracy: 0.5619\n",
      "Epoch 13/100\n",
      "13593/13593 [==============================] - 3s 216us/step - loss: 0.7340 - accuracy: 0.6071 - val_loss: 0.7862 - val_accuracy: 0.5566\n",
      "Epoch 14/100\n",
      "13593/13593 [==============================] - 3s 214us/step - loss: 0.7348 - accuracy: 0.6063 - val_loss: 0.7771 - val_accuracy: 0.5645\n",
      "Epoch 15/100\n",
      "13593/13593 [==============================] - 3s 205us/step - loss: 0.7310 - accuracy: 0.6122 - val_loss: 0.7817 - val_accuracy: 0.5645\n",
      "Epoch 16/100\n",
      "13593/13593 [==============================] - 3s 207us/step - loss: 0.7306 - accuracy: 0.6077 - val_loss: 0.7748 - val_accuracy: 0.5599\n",
      "Epoch 17/100\n",
      "13593/13593 [==============================] - 3s 205us/step - loss: 0.7289 - accuracy: 0.6111 - val_loss: 0.7838 - val_accuracy: 0.5659\n",
      "Epoch 18/100\n",
      "13593/13593 [==============================] - 3s 206us/step - loss: 0.7287 - accuracy: 0.6085 - val_loss: 0.7826 - val_accuracy: 0.5539\n",
      "Epoch 19/100\n",
      "13593/13593 [==============================] - 3s 197us/step - loss: 0.7262 - accuracy: 0.6130 - val_loss: 0.7836 - val_accuracy: 0.5645\n",
      "Epoch 20/100\n",
      "13593/13593 [==============================] - 3s 197us/step - loss: 0.7257 - accuracy: 0.6109 - val_loss: 0.7822 - val_accuracy: 0.5592\n",
      "Epoch 21/100\n",
      "13593/13593 [==============================] - 3s 196us/step - loss: 0.7256 - accuracy: 0.6147 - val_loss: 0.7850 - val_accuracy: 0.5586\n",
      "Epoch 22/100\n",
      "13593/13593 [==============================] - 3s 197us/step - loss: 0.7230 - accuracy: 0.6179 - val_loss: 0.7840 - val_accuracy: 0.5619\n",
      "Epoch 23/100\n",
      "13593/13593 [==============================] - 3s 204us/step - loss: 0.7227 - accuracy: 0.6132 - val_loss: 0.7884 - val_accuracy: 0.5566\n",
      "Epoch 24/100\n",
      "13593/13593 [==============================] - 3s 212us/step - loss: 0.7219 - accuracy: 0.6163 - val_loss: 0.7841 - val_accuracy: 0.5632\n",
      "Epoch 25/100\n",
      "13593/13593 [==============================] - 3s 215us/step - loss: 0.7208 - accuracy: 0.6177 - val_loss: 0.7861 - val_accuracy: 0.5758\n",
      "Epoch 26/100\n",
      "13593/13593 [==============================] - 3s 215us/step - loss: 0.7202 - accuracy: 0.6162 - val_loss: 0.7863 - val_accuracy: 0.5625\n",
      "Restoring model weights from the end of the best epoch\n",
      "Epoch 00026: early stopping\n",
      "808\n",
      "20190117 accuracy:  0.5532178217821783\n",
      "5342\n",
      "20190118 accuracy:  0.6149382253837514\n",
      "2570\n",
      "20190122 accuracy:  0.6003891050583657\n",
      "2944\n",
      "20190123 accuracy:  0.6063179347826086\n",
      "1759\n",
      "20190124 accuracy:  0.5861284820920978\n",
      "1610\n",
      "20190125 accuracy:  0.5763975155279503\n",
      "1428\n",
      "20190128 accuracy:  0.584733893557423\n",
      "1034\n",
      "20190129 accuracy:  0.5899419729206963\n",
      "2164\n",
      "20190130 accuracy:  0.5591497227356746\n",
      "2679\n",
      "20190131 accuracy:  0.5957446808510638\n"
     ]
    },
    {
     "data": {
      "text/plain": [
       "<__main__.CNN_Model at 0x1a522412d0>"
      ]
     },
     "execution_count": 18,
     "metadata": {},
     "output_type": "execute_result"
    }
   ],
   "source": [
    "cnn_model = CNN_Model()\n",
    "cnn_model.build(time_steps = time_steps, data_dim = pipeline.x.shape[-1], output_dim = pipeline.y.shape[-1])\n",
    "pipeline.model_training_testing(ticker, cnn_model)"
   ]
  },
  {
   "cell_type": "markdown",
   "metadata": {},
   "source": [
    "# Random Forest"
   ]
  },
  {
   "cell_type": "code",
   "execution_count": 19,
   "metadata": {},
   "outputs": [],
   "source": [
    "from sklearn.ensemble import RandomForestClassifier\n",
    "from sklearn.base import BaseEstimator, ClassifierMixin"
   ]
  },
  {
   "cell_type": "code",
   "execution_count": 30,
   "metadata": {},
   "outputs": [],
   "source": [
    "class RandomForest():\n",
    "    def __init__(self,max_depth=36, n_estimators=100, max_features=0.2, criterion = 'gini'):\n",
    "        self.model = RandomForestClassifier(n_estimators=n_estimators, criterion = criterion, max_depth=max_depth,max_features=max_features)\n",
    "        self.model_name = \"Random_Forest\"\n",
    "    def fit(self,X,Y):\n",
    "        return self.model.fit(X,Y)\n",
    "    def predict(self,X):\n",
    "        return self.model.predict(X)\n",
    "    def reshape_dataset(self, x, y):\n",
    "        if x is not None:\n",
    "            if len(x.shape) == 3:\n",
    "                x = x.reshape(x.shape[0], x.shape[1]*x.shape[2])\n",
    "        if len(y.shape) == 1:\n",
    "            y = y.reshape(y.shape[0],1)\n",
    "        return x, y "
   ]
  },
  {
   "cell_type": "code",
   "execution_count": 31,
   "metadata": {},
   "outputs": [
    {
     "name": "stdout",
     "output_type": "stream",
     "text": [
      "train (13593, 200) (13593, 3)\n",
      "validation (1511, 200) (1511, 3)\n",
      "808\n",
      "20190117 accuracy:  0.5297029702970297\n",
      "5342\n",
      "20190118 accuracy:  0.5943466866342194\n",
      "2570\n",
      "20190122 accuracy:  0.5501945525291829\n",
      "2944\n",
      "20190123 accuracy:  0.5315896739130435\n",
      "1759\n",
      "20190124 accuracy:  0.5105173393973849\n",
      "1610\n",
      "20190125 accuracy:  0.5186335403726708\n",
      "1428\n",
      "20190128 accuracy:  0.5329131652661064\n",
      "1034\n",
      "20190129 accuracy:  0.5261121856866537\n",
      "2164\n",
      "20190130 accuracy:  0.5600739371534196\n",
      "2679\n",
      "20190131 accuracy:  0.555431131019037\n"
     ]
    },
    {
     "data": {
      "text/plain": [
       "<__main__.RandomForest at 0x1a6c2b8e50>"
      ]
     },
     "execution_count": 31,
     "metadata": {},
     "output_type": "execute_result"
    }
   ],
   "source": [
    "random_forest_model = RandomForest()\n",
    "pipeline.model_training_testing(ticker, random_forest_model)"
   ]
  },
  {
   "cell_type": "markdown",
   "metadata": {},
   "source": [
    "# GradientBoost"
   ]
  },
  {
   "cell_type": "code",
   "execution_count": 22,
   "metadata": {},
   "outputs": [],
   "source": [
    "from sklearn.ensemble import GradientBoostingClassifier"
   ]
  },
  {
   "cell_type": "code",
   "execution_count": 23,
   "metadata": {},
   "outputs": [],
   "source": [
    "class GradientBoost():\n",
    "    def __init__(self):\n",
    "        self.model = GradientBoostingClassifier(n_estimators=500,max_depth=50,learning_rate=0.05)\n",
    "        self.model_name = \"GradientBoost\"\n",
    "    def fit(self,X,Y):\n",
    "        return self.model.fit(X,Y)\n",
    "    def predict(self,X):\n",
    "        return self.model.predict(X)\n",
    "    def reshape_dataset(self, x, y):\n",
    "        if x is not None:\n",
    "            if len(x.shape) == 3:\n",
    "                x = x.reshape(x.shape[0], x.shape[1]*x.shape[2])\n",
    "        if len(y.shape) != 1:\n",
    "            y = np.where(y==1)[1]\n",
    "            y = y.reshape(y.shape[0],1)\n",
    "        return x, y "
   ]
  },
  {
   "cell_type": "code",
   "execution_count": 24,
   "metadata": {},
   "outputs": [
    {
     "name": "stdout",
     "output_type": "stream",
     "text": [
      "train (13593, 200) (13593, 1)\n",
      "validation (1511, 200) (1511, 1)\n"
     ]
    },
    {
     "name": "stderr",
     "output_type": "stream",
     "text": [
      "/Users/xunyingluo/anaconda3/envs/py36/lib/python3.7/site-packages/sklearn/ensemble/_gb.py:1454: DataConversionWarning: A column-vector y was passed when a 1d array was expected. Please change the shape of y to (n_samples, ), for example using ravel().\n",
      "  y = column_or_1d(y, warn=True)\n"
     ]
    },
    {
     "name": "stdout",
     "output_type": "stream",
     "text": [
      "808\n",
      "20190117 accuracy:  0.4730050975394569\n",
      "5342\n",
      "20190118 accuracy:  0.44296824988110156\n",
      "2570\n",
      "20190122 accuracy:  0.4501047707005405\n",
      "2944\n",
      "20190123 accuracy:  0.44406087547258977\n",
      "1759\n",
      "20190124 accuracy:  0.4522409077202568\n",
      "1610\n",
      "20190125 accuracy:  0.4553180818641256\n",
      "1428\n",
      "20190128 accuracy:  0.4545479956688558\n",
      "1034\n",
      "20190129 accuracy:  0.460467883077867\n",
      "2164\n",
      "20190130 accuracy:  0.46853101157915955\n",
      "2679\n",
      "20190131 accuracy:  0.46968284004508265\n"
     ]
    },
    {
     "data": {
      "text/plain": [
       "<__main__.GradientBoost at 0x1a6d1b5190>"
      ]
     },
     "execution_count": 24,
     "metadata": {},
     "output_type": "execute_result"
    }
   ],
   "source": [
    "gradient_boost_model=GradientBoost()\n",
    "pipeline.model_training_testing(ticker, gradient_boost_model)"
   ]
  },
  {
   "cell_type": "markdown",
   "metadata": {},
   "source": [
    "# XGBOOST"
   ]
  },
  {
   "cell_type": "code",
   "execution_count": 25,
   "metadata": {},
   "outputs": [],
   "source": [
    "from xgboost import XGBClassifier"
   ]
  },
  {
   "cell_type": "code",
   "execution_count": 26,
   "metadata": {},
   "outputs": [],
   "source": [
    "class XGBoost():\n",
    "    def __init__(self):\n",
    "        self.model =XGBClassifier(n_estimators=100, max_depth=50,learning_rate=0.1,reg_lambda=0.1, verbose=True)\n",
    "        self.model_name = \"XGBoost\"\n",
    "    def fit(self,X,Y):\n",
    "        return self.model.fit(X,Y)\n",
    "    def predict(self,X):\n",
    "        return self.model.predict(X)\n",
    "    def reshape_dataset(self, x, y):\n",
    "        if x is not None:\n",
    "            if len(x.shape) == 3:\n",
    "                x = x.reshape(x.shape[0], x.shape[1]*x.shape[2])\n",
    "        if len(y.shape) != 1:\n",
    "            y = np.where(y==1)[1]\n",
    "            y = y.reshape(y.shape[0],1)\n",
    "        return x, y "
   ]
  },
  {
   "cell_type": "code",
   "execution_count": 27,
   "metadata": {},
   "outputs": [
    {
     "name": "stdout",
     "output_type": "stream",
     "text": [
      "train (13593, 200) (13593, 1)\n",
      "validation (1511, 200) (1511, 1)\n"
     ]
    },
    {
     "name": "stderr",
     "output_type": "stream",
     "text": [
      "/Users/xunyingluo/anaconda3/envs/py36/lib/python3.7/site-packages/sklearn/preprocessing/_label.py:235: DataConversionWarning: A column-vector y was passed when a 1d array was expected. Please change the shape of y to (n_samples, ), for example using ravel().\n",
      "  y = column_or_1d(y, warn=True)\n",
      "/Users/xunyingluo/anaconda3/envs/py36/lib/python3.7/site-packages/sklearn/preprocessing/_label.py:268: DataConversionWarning: A column-vector y was passed when a 1d array was expected. Please change the shape of y to (n_samples, ), for example using ravel().\n",
      "  y = column_or_1d(y, warn=True)\n"
     ]
    },
    {
     "name": "stdout",
     "output_type": "stream",
     "text": [
      "808\n",
      "20190117 accuracy:  0.4788271370453877\n",
      "5342\n",
      "20190118 accuracy:  0.44020975742198787\n",
      "2570\n",
      "20190122 accuracy:  0.4595206589047525\n",
      "2944\n",
      "20190123 accuracy:  0.45331733573812616\n",
      "1759\n",
      "20190124 accuracy:  0.46548038011933107\n",
      "1610\n",
      "20190125 accuracy:  0.4832969407044481\n",
      "1428\n",
      "20190128 accuracy:  0.47455894122354825\n",
      "1034\n",
      "20190129 accuracy:  0.48898663992906555\n",
      "2164\n",
      "20190130 accuracy:  0.4749074077237675\n",
      "2679\n",
      "20190131 accuracy:  0.4738826209854451\n"
     ]
    },
    {
     "data": {
      "text/plain": [
       "<__main__.XGBoost at 0x1a715df650>"
      ]
     },
     "execution_count": 27,
     "metadata": {},
     "output_type": "execute_result"
    }
   ],
   "source": [
    "xgboost_model=XGBoost()\n",
    "pipeline.model_training_testing(ticker, xgboost_model)"
   ]
  },
  {
   "cell_type": "markdown",
   "metadata": {},
   "source": [
    "#  Tick Factor"
   ]
  },
  {
   "cell_type": "code",
   "execution_count": 28,
   "metadata": {},
   "outputs": [
    {
     "name": "stdout",
     "output_type": "stream",
     "text": [
      "Accuracy of 20190117 0.4707643580036127\n",
      "Accuracy of 20190118 0.43095347731518396\n",
      "Accuracy of 20190122 0.4555151005928208\n",
      "Accuracy of 20190123 0.45868338302510847\n",
      "Accuracy of 20190124 0.4674517203359969\n",
      "Accuracy of 20190125 0.463677230280151\n",
      "Accuracy of 20190128 0.48354217710885544\n",
      "Accuracy of 20190129 0.45997873779839565\n",
      "Accuracy of 20190130 0.45219857893910137\n",
      "Accuracy of 20190131 0.4725264061508603\n"
     ]
    }
   ],
   "source": [
    "# TICK FACTOR\n",
    "# only update if it's a trade\n",
    "# if message_type == 't':\n",
    "#     # calc the tick\n",
    "#     this_tick = np.sign(last_price - prev_price)\n",
    "#     if this_tick == 0:\n",
    "#         this_tick = prev_tick\n",
    "\n",
    "#     # now calc the tick\n",
    "#     if tick_factor == 0:\n",
    "#         tick_factor = this_tick\n",
    "#     else:\n",
    "#         tick_factor = (tick_ema_alpha * this_tick) + (1 - tick_ema_alpha) * tick_factor\n",
    "\n",
    "#         # store the last tick\n",
    "#     prev_tick = this_tick\n",
    "\n",
    "for test_date in test_date_list:\n",
    "    df = pd.read_csv(data_dir+'trades_{}_{}.csv'.format(test_date, ticker),index_col=[0],parse_dates=[0])\n",
    "    \n",
    "    df[\"tick_test\"]=(df[\"trade_px\"]-df[\"trade_px\"].shift(1)).apply(lambda x: 1 if x>0. else (-1. if x<0 else np.nan))\n",
    "    df.fillna(method=\"ffill\",inplace=True)\n",
    "    \n",
    "    df[\"tick_factor\"]=df[\"tick_test\"].ewm(span=20).mean()\n",
    "    df.dropna(axis=0,inplace=True)\n",
    "    \n",
    "    mysign = lambda x: 0 if abs(x)<1e-5 else (1 if x>0 else -1)\n",
    "    df[\"predict\"]=df[\"tick_factor\"].apply(mysign)\n",
    "    df[\"real_movement\"]=(df[\"trade_px\"].rolling(nforward).mean().shift(-nforward)-df[\"trade_px\"]).apply(mysign)\n",
    "    \n",
    "    df.dropna(axis=0,inplace=True)\n",
    "    acc=np.mean(df[\"predict\"]==df[\"real_movement\"])\n",
    "    print(\"Accuracy of {}\".format(test_date),acc)\n"
   ]
  },
  {
   "cell_type": "code",
   "execution_count": 29,
   "metadata": {},
   "outputs": [
    {
     "name": "stdout",
     "output_type": "stream",
     "text": [
      "Average time interval between 10 trades is 0 days 00:00:02.094658\n"
     ]
    },
    {
     "data": {
      "image/png": "[encoded data removed]",
      "text/plain": [
       "<Figure size 432x288 with 1 Axes>"
      ]
     },
     "metadata": {
      "needs_background": "light"
     },
     "output_type": "display_data"
    }
   ],
   "source": [
    "sum=pd.Timedelta(0)\n",
    "count=0\n",
    "for test_date in test_date_list:\n",
    "    df = pd.read_csv(data_dir+'trades_{}_{}.csv'.format(test_date, ticker),index_col=[0],parse_dates=[0])\n",
    "    timestamp=pd.DataFrame({\"trade_time\":df.index})\n",
    "    dt=timestamp[\"trade_time\"].shift(-nforward)-timestamp[\"trade_time\"]\n",
    "    dt.dropna(axis=0,inplace=True)\n",
    "    dt.apply(lambda x:x.seconds).hist()\n",
    "    sum+=dt.sum()\n",
    "    count+=dt.shape[0]\n",
    "print(\"Average time interval between {} trades is\".format(nforward),sum/count)"
   ]
  },
  {
   "cell_type": "code",
   "execution_count": null,
   "metadata": {},
   "outputs": [],
   "source": []
  },
  {
   "cell_type": "code",
   "execution_count": null,
   "metadata": {},
   "outputs": [],
   "source": []
  }
 ],
 "metadata": {
  "kernelspec": {
   "display_name": "Python 3",
   "language": "python",
   "name": "python3"
  },
  "language_info": {
   "codemirror_mode": {
    "name": "ipython",
    "version": 3
   },
   "file_extension": ".py",
   "mimetype": "text/x-python",
   "name": "python",
   "nbconvert_exporter": "python",
   "pygments_lexer": "ipython3",
   "version": "3.7.4"
  },
  "toc": {
   "base_numbering": 1,
   "nav_menu": {},
   "number_sections": true,
   "sideBar": true,
   "skip_h1_title": false,
   "title_cell": "Table of Contents",
   "title_sidebar": "Contents",
   "toc_cell": false,
   "toc_position": {},
   "toc_section_display": true,
   "toc_window_display": false
  }
 },
 "nbformat": 4,
 "nbformat_minor": 2
}
