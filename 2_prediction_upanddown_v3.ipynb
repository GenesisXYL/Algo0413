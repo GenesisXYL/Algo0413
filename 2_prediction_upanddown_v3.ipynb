{
 "cells": [
  {
   "cell_type": "code",
   "execution_count": 1,
   "metadata": {},
   "outputs": [
    {
     "name": "stderr",
     "output_type": "stream",
     "text": [
      "Using TensorFlow backend.\n",
      "/Users/xunyingluo/anaconda3/envs/py36/lib/python3.6/site-packages/tensorflow/python/framework/dtypes.py:519: FutureWarning: Passing (type, 1) or '1type' as a synonym of type is deprecated; in a future version of numpy, it will be understood as (type, (1,)) / '(1,)type'.\n",
      "  _np_qint8 = np.dtype([(\"qint8\", np.int8, 1)])\n",
      "/Users/xunyingluo/anaconda3/envs/py36/lib/python3.6/site-packages/tensorflow/python/framework/dtypes.py:520: FutureWarning: Passing (type, 1) or '1type' as a synonym of type is deprecated; in a future version of numpy, it will be understood as (type, (1,)) / '(1,)type'.\n",
      "  _np_quint8 = np.dtype([(\"quint8\", np.uint8, 1)])\n",
      "/Users/xunyingluo/anaconda3/envs/py36/lib/python3.6/site-packages/tensorflow/python/framework/dtypes.py:521: FutureWarning: Passing (type, 1) or '1type' as a synonym of type is deprecated; in a future version of numpy, it will be understood as (type, (1,)) / '(1,)type'.\n",
      "  _np_qint16 = np.dtype([(\"qint16\", np.int16, 1)])\n",
      "/Users/xunyingluo/anaconda3/envs/py36/lib/python3.6/site-packages/tensorflow/python/framework/dtypes.py:522: FutureWarning: Passing (type, 1) or '1type' as a synonym of type is deprecated; in a future version of numpy, it will be understood as (type, (1,)) / '(1,)type'.\n",
      "  _np_quint16 = np.dtype([(\"quint16\", np.uint16, 1)])\n",
      "/Users/xunyingluo/anaconda3/envs/py36/lib/python3.6/site-packages/tensorflow/python/framework/dtypes.py:523: FutureWarning: Passing (type, 1) or '1type' as a synonym of type is deprecated; in a future version of numpy, it will be understood as (type, (1,)) / '(1,)type'.\n",
      "  _np_qint32 = np.dtype([(\"qint32\", np.int32, 1)])\n",
      "/Users/xunyingluo/anaconda3/envs/py36/lib/python3.6/site-packages/tensorflow/python/framework/dtypes.py:528: FutureWarning: Passing (type, 1) or '1type' as a synonym of type is deprecated; in a future version of numpy, it will be understood as (type, (1,)) / '(1,)type'.\n",
      "  np_resource = np.dtype([(\"resource\", np.ubyte, 1)])\n"
     ]
    }
   ],
   "source": [
    "import pandas as pd\n",
    "import numpy as np\n",
    "import matplotlib.pyplot as plt\n",
    "from sklearn.preprocessing import StandardScaler\n",
    "from keras.models import Sequential\n",
    "from keras.layers import LSTM, Dense, Activation\n",
    "from keras.callbacks import EarlyStopping\n",
    "\n",
    "from sklearn.model_selection import train_test_split\n",
    "import keras\n",
    "import pickle"
   ]
  },
  {
   "cell_type": "code",
   "execution_count": 2,
   "metadata": {
    "collapsed": true
   },
   "outputs": [],
   "source": [
    "import os\n",
    "\n",
    "data_dir=\"./data/\"\n",
    "ticker=\"TSLA\"\n",
    "\n",
    "date_pool=pd.date_range(\"1/1/2019\",\"1/31/2019\",freq=\"B\").strftime(\"%Y%m%d\")\n",
    "date_pool=[d for d in date_pool if os.path.exists(data_dir+\"trades_{}_{}.csv\".format(d,ticker))]\n",
    "\n",
    "train_days=10\n",
    "train_date_list=date_pool[:train_days]\n",
    "test_date_list=date_pool[train_days+1:]\n",
    "time_steps = 50\n",
    "\n",
    "nforward=10"
   ]
  },
  {
   "cell_type": "code",
   "execution_count": 3,
   "metadata": {},
   "outputs": [],
   "source": [
    "class Pipeline():\n",
    "    def __init__(self):\n",
    "        self.x = None\n",
    "        self.y = None\n",
    "        self.scaler = None\n",
    "    def load_data(self, ticker, date):\n",
    "        df = pd.read_csv(data_dir+'trades_{}_{}.csv'.format(date, ticker),index_col=[0],parse_dates=[0])\n",
    "\n",
    "        # Feature Engineering\n",
    "        df[\"direction\"]=(df[\"trade_px\"]-df[\"trade_px\"].shift(1)).apply(np.sign)\n",
    "        df[\"pct_change\"]=df[\"trade_px\"].pct_change()\n",
    "\n",
    "        mysign=lambda x: 0 if abs(x)<1e-5 else (1 if x>0 else -1)\n",
    "        df[\"label\"]=(df[\"trade_px\"].rolling(nforward).mean().shift(-nforward)-df[\"trade_px\"]).apply(mysign)\n",
    "        # df[\"label\"]=(df[\"trade_px\"].shift(-1)-df[\"trade_px\"]).apply(np.sign) # last version\n",
    "\n",
    "        df.fillna(method=\"ffill\",inplace=True)\n",
    "        df.dropna(axis=0,inplace=True)\n",
    "        # print(df.head(10),df.shape)\n",
    "        # print(\"NaN number: \",df.isna().sum().sum())\n",
    "\n",
    "        return df[[\"trade_px\",\"trade_size\",\"pct_change\",\"direction\",\"label\"]].values\n",
    "\n",
    "    def create_dataset(self, ticker=ticker, dates=train_date_list, time_steps = time_steps, input_scaler=None):  \n",
    "        for i,d in enumerate(dates):\n",
    "            datanew = self.load_data(ticker,d)\n",
    "            if i==0:\n",
    "                data=datanew\n",
    "            else:\n",
    "                data=np.vstack((data, datanew))\n",
    "\n",
    "        label=data[:,-1]\n",
    "        data=data[:,:-1]\n",
    "\n",
    "        if input_scaler is None:\n",
    "            scaler=StandardScaler()\n",
    "            data=scaler.fit_transform(data)\n",
    "        else:\n",
    "            data=input_scaler.transform(data)\n",
    "            scaler=input_scaler\n",
    "\n",
    "        x = [data[0 : time_steps]]\n",
    "        y = [label[time_steps-1]]\n",
    "        N=len(data)//time_steps\n",
    "\n",
    "        print(N)\n",
    "        for i in range(1, N):\n",
    "            t = data[i*time_steps: (i + 1)*time_steps]\n",
    "            x = np.vstack((x, [t]))\n",
    "            y.append(label[(i + 1)*time_steps-1])\n",
    "\n",
    "        y=pd.get_dummies(y)\n",
    "        #print(y)\n",
    "\n",
    "        return x,y.values,scaler\n",
    "\n",
    "    def loss_plot(self, history, plot_name = 'Loss'): # type(history) is dict\n",
    "        loss = np.asarray(history['loss'])\n",
    "        val_loss = np.asarray(history['val_loss'])\n",
    "\n",
    "        plt.style.use('seaborn')\n",
    "        plt.figure(figsize = (20,6), dpi=dpi)\n",
    "        plt.grid(True)\n",
    "        plt.plot(loss, color = 'darkgrey')\n",
    "        plt.plot(val_loss, color = 'tan')\n",
    "        plt.legend(['loss', 'val_loss'])\n",
    "        # plt.savefig('{}_{}_{}_{}_{}.png'.format(ticker, plot_name, str(n_epochs), str(time_steps), str(batch_size)))\n",
    "    \n",
    "    \n",
    "    def training_data_transform(self, ticker):\n",
    "        # Load train data\n",
    "        x, y, scaler = self.create_dataset(ticker)\n",
    "        self.x, self.y, self.scaler = x, y, scaler\n",
    "        print(\"Finished loading data.\")\n",
    "\n",
    "        with open(\"model/LSTMv2_scaler_{}_{}.p\".format(train_date_list[0],train_date_list[-1]),\"wb\") as f:\n",
    "            pickle.dump(scaler,f)\n",
    "\n",
    "    def model_training_testing(self, ticker, model, plot = False):\n",
    "        # Model Training pipeline\n",
    "        model_functionalities = Model_Functionalities(model)\n",
    "        \n",
    "        x, y, scaler = self.x, self.y, self.scaler\n",
    "        \n",
    "        if x is None:\n",
    "            print(\"None Training data processed\")\n",
    "            return\n",
    "        \n",
    "        # Build model, in-sample train test\n",
    "        train_history = model_functionalities.train_test(x, y, plot)  \n",
    "        if model_functionalities.model.model_name == \"LSTM\":\n",
    "            if plot == True:\n",
    "                self.loss_plot(train_history.history)\n",
    "\n",
    "        with open(\"model/LSTMv2_{}_{}.p\".format(train_date_list[0],train_date_list[-1]),\"wb\") as f:\n",
    "            pickle.dump(model,f)\n",
    "\n",
    "        # Out-of-sample test\n",
    "        for test_date in test_date_list:\n",
    "            # create test dateset\n",
    "            x_test, y_test, _ = self.create_dataset(ticker=ticker, dates=[test_date], time_steps = time_steps, input_scaler=scaler)\n",
    "            x_test, y_test = model_functionalities.model.reshape_dataset(x_test, y_test)\n",
    "\n",
    "            # use precious trained model to test\n",
    "            y_test_pred = model_functionalities.predict(x_test)\n",
    "            if model_functionalities.model.model_name == \"LSTM\":\n",
    "                if plot == True:\n",
    "                    model_functionalities.view_accuracy(y_test_pred.argmax(axis=1), y_test.argmax(axis=1))\n",
    "            if y_test.shape[1] != 1:\n",
    "                accuracy = np.mean(y_test_pred.argmax(axis=1)==y_test.argmax(axis=1))\n",
    "            else:\n",
    "                accuracy = np.mean(y_test_pred==y_test)\n",
    "            print(test_date+\" accuracy: \", accuracy)\n",
    "        return model_functionalities.model"
   ]
  },
  {
   "cell_type": "code",
   "execution_count": 4,
   "metadata": {},
   "outputs": [
    {
     "name": "stdout",
     "output_type": "stream",
     "text": [
      "15154\n",
      "Finished loading data.\n"
     ]
    }
   ],
   "source": [
    "pipeline = Pipeline()\n",
    "pipeline.training_data_transform(ticker)"
   ]
  },
  {
   "cell_type": "markdown",
   "metadata": {},
   "source": [
    "# Using LSTM to predict next up and down\n",
    "## v2: Predict up and downs of the average of $\\mathbf{nforward}=10$ following prices\n",
    "\n",
    "1. Too slow to predict (next trade may happen in millisecond)\n",
    "2. Only classification of up, down and same. No quantitative prediction (can be improved to predict quantity of price movement)"
   ]
  },
  {
   "cell_type": "code",
   "execution_count": 5,
   "metadata": {
    "collapsed": true
   },
   "outputs": [],
   "source": [
    "hidden_dim = 30\n",
    "n_epochs = 100\n",
    "batch_size = 128\n",
    "activation = \"tanh\"\n",
    "loss = 'categorical_crossentropy'\n",
    "stop_patience=20\n",
    "\n",
    "dpi=200\n",
    "\n",
    "\n",
    "class LSTM_Model():\n",
    "    def __init__(self):\n",
    "        self.model = Sequential()\n",
    "        self.model_name = \"LSTM\"\n",
    "        return \n",
    "    \n",
    "    def build(self,  time_steps = time_steps, data_dim = 1, output_dim = 3):\n",
    "        # expected input batch shape: (batch_size, timesteps, data_dim)\n",
    "        # the sample of index i in batch k is the follow-up for the sample i in batch k-1.\n",
    "        self.model.add(LSTM(hidden_dim, activation=activation, return_sequences=True, input_shape=(time_steps, data_dim)))\n",
    "        self.model.add(LSTM(hidden_dim, activation=activation, return_sequences=True))\n",
    "        self.model.add(LSTM(hidden_dim, activation=activation))\n",
    "        self.model.add(Dense(output_dim, activation = 'softmax'))\n",
    "        \n",
    "        opt=keras.optimizers.Adam(lr=0.001, beta_1=0.9, beta_2=0.999, epsilon=1e-08)\n",
    "        self.model.compile(loss = loss, optimizer=opt, metrics=['accuracy']) \n",
    "        return self.model\n",
    "    \n",
    "    def fit(self, x_train, y_train, batch_size, epochs, validation_data, callbacks):\n",
    "        return self.model.fit(x_train, y_train, batch_size = batch_size, epochs = epochs, validation_data = validation_data, callbacks = callbacks)\n",
    "    \n",
    "    def predict(self, x):\n",
    "        return self.model.predict(x)\n",
    "    \n",
    "    def reshape_dataset(self, x, y):\n",
    "        if x is not None:\n",
    "            if len(x.shape) == 2:\n",
    "                x = x.reshape(x.shape[0], x.shape[1], 1)\n",
    "        if len(y.shape) == 1:\n",
    "            y = y.reshape(y.shape[0],1)\n",
    "        return x, y \n",
    "\n",
    "\n",
    "class Model_Functionalities():\n",
    "    def __init__(self, model):\n",
    "        self.model = model\n",
    "    def train_test(self, x, y, plot = False):\n",
    "        \n",
    "        size = len(x)\n",
    "        if size!=len(y):\n",
    "            return None\n",
    "        x = x[: batch_size * (size // batch_size)]\n",
    "        y = y[: batch_size * (size // batch_size)]\n",
    "        \n",
    "        x, y = self.model.reshape_dataset(x, y)\n",
    "\n",
    "        x_train, x_validation, y_train, y_validation= train_test_split(x, y, test_size = 0.1, shuffle = True)\n",
    "        print('train', x_train.shape, y_train.shape)\n",
    "        print('validation', x_validation.shape, y_validation.shape)\n",
    "        \n",
    "        \n",
    "        if self.model.model_name == \"LSTM\" or  self.model.model_name == \"CNN\":\n",
    "            early_stopping = EarlyStopping(monitor='val_loss', patience=stop_patience, mode=\"min\", verbose=2, restore_best_weights=True)\n",
    "            history = self.model.fit(x_train, y_train, batch_size = batch_size, epochs = n_epochs,\n",
    "                                     validation_data=(x_validation, y_validation),callbacks=[early_stopping])\n",
    "        else:\n",
    "            self.model.fit(x_train, y_train)\n",
    "        \n",
    "        self.y_pred = self.model.predict(x_validation)\n",
    "        self.y_validation_true = y_validation\n",
    "        \n",
    "        if plot == True:\n",
    "            if y.shape[1] != 1:\n",
    "                self.train_plot = self.view_accuracy(self.predict(x_train).argmax(axis=1), y_train.argmax(axis=1), 'Train')\n",
    "                self.validation_plot = self.view_accuracy(self.predict(x_validation).argmax(axis=1), y_validation.argmax(axis=1), 'Validation')\n",
    "            else:\n",
    "                self.train_plot = self.view_accuracy(self.predict(x_train), y_train, 'Train')\n",
    "                self.validation_plot = self.view_accuracy(self.predict(x_validation), y_validation, 'Validation')\n",
    "        if self.model.model_name == \"LSTM\":\n",
    "            return history\n",
    "\n",
    "    def predict(self, x_validation):\n",
    "        pred = self.model.predict(x_validation)\n",
    "        return pred\n",
    "    \n",
    "    def view_accuracy(self, y_pred = None, y_true = None, plot_name = 'Test', num=100):\n",
    "        if y_pred is None:\n",
    "            y_pred = self.y_pred.argmax(axis=1)\n",
    "            y_true = self.y_validation_true.argmax(axis=1)\n",
    "        \n",
    "        plt.style.use('seaborn')\n",
    "        plt.figure(figsize = (20,6), dpi=dpi)\n",
    "        plt.grid(True)\n",
    "        plt.plot(y_pred[:num], color = 'lightcoral')\n",
    "        plt.plot(y_true[:num], color = 'cornflowerblue', linewidth = 1)\n",
    "        plt.title('{}_{}'.format(ticker, plot_name))\n",
    "        plt.legend(['predict', 'true'])\n",
    "#         if plot_name == 'Test':\n",
    "#             plt.savefig('{}_{}_{}_{}.png'.format(ticker, plot_name, str(time_steps), str(batch_size)))\n",
    "#         else:\n",
    "#             plt.savefig('{}_{}_{}_{}.png'.format(ticker, plot_name, str(time_steps), str(batch_size)))\n"
   ]
  },
  {
   "cell_type": "code",
   "execution_count": 6,
   "metadata": {},
   "outputs": [
    {
     "name": "stdout",
     "output_type": "stream",
     "text": [
      "train (13593, 50, 4) (13593, 3)\n",
      "validation (1511, 50, 4) (1511, 3)\n",
      "Train on 13593 samples, validate on 1511 samples\n",
      "Epoch 1/100\n",
      "13593/13593 [==============================] - 12s 910us/step - loss: 0.8684 - acc: 0.4869 - val_loss: 0.8246 - val_acc: 0.4884\n",
      "Epoch 2/100\n",
      "13593/13593 [==============================] - 12s 893us/step - loss: 0.8347 - acc: 0.4837 - val_loss: 0.8193 - val_acc: 0.4752\n",
      "Epoch 3/100\n",
      "13593/13593 [==============================] - 12s 878us/step - loss: 0.8289 - acc: 0.4905 - val_loss: 0.8086 - val_acc: 0.5275\n",
      "Epoch 4/100\n",
      "13593/13593 [==============================] - 12s 877us/step - loss: 0.7981 - acc: 0.5189 - val_loss: 0.7780 - val_acc: 0.5817\n",
      "Epoch 5/100\n",
      "13593/13593 [==============================] - 14s 1ms/step - loss: 0.7754 - acc: 0.5690 - val_loss: 0.7459 - val_acc: 0.5989s - loss: 0.7764 - acc: 0.56\n",
      "Epoch 6/100\n",
      "13593/13593 [==============================] - 13s 933us/step - loss: 0.7588 - acc: 0.5807 - val_loss: 0.7328 - val_acc: 0.6036\n",
      "Epoch 7/100\n",
      "13593/13593 [==============================] - 11s 829us/step - loss: 0.7541 - acc: 0.5794 - val_loss: 0.7313 - val_acc: 0.6069\n",
      "Epoch 8/100\n",
      "13593/13593 [==============================] - 11s 816us/step - loss: 0.7490 - acc: 0.5832 - val_loss: 0.7267 - val_acc: 0.6102\n",
      "Epoch 9/100\n",
      "13593/13593 [==============================] - 11s 823us/step - loss: 0.7445 - acc: 0.5849 - val_loss: 0.7249 - val_acc: 0.6095\n",
      "Epoch 10/100\n",
      "13593/13593 [==============================] - 12s 869us/step - loss: 0.7426 - acc: 0.5854 - val_loss: 0.7201 - val_acc: 0.6095\n",
      "Epoch 11/100\n",
      "13593/13593 [==============================] - 11s 841us/step - loss: 0.7395 - acc: 0.5869 - val_loss: 0.7171 - val_acc: 0.6221\n",
      "Epoch 12/100\n",
      "13593/13593 [==============================] - 11s 819us/step - loss: 0.7375 - acc: 0.5899 - val_loss: 0.7180 - val_acc: 0.6168\n",
      "Epoch 13/100\n",
      "13593/13593 [==============================] - 13s 928us/step - loss: 0.7364 - acc: 0.5905 - val_loss: 0.7158 - val_acc: 0.6188\n",
      "Epoch 14/100\n",
      "13593/13593 [==============================] - 13s 964us/step - loss: 0.7348 - acc: 0.5909 - val_loss: 0.7154 - val_acc: 0.6122\n",
      "Epoch 15/100\n",
      "13593/13593 [==============================] - 13s 949us/step - loss: 0.7334 - acc: 0.5903 - val_loss: 0.7161 - val_acc: 0.6155\n",
      "Epoch 16/100\n",
      "13593/13593 [==============================] - 12s 877us/step - loss: 0.7320 - acc: 0.5944 - val_loss: 0.7168 - val_acc: 0.6056\n",
      "Epoch 17/100\n",
      "13593/13593 [==============================] - 14s 1ms/step - loss: 0.7319 - acc: 0.5921 - val_loss: 0.7178 - val_acc: 0.6221\n",
      "Epoch 18/100\n",
      "13593/13593 [==============================] - 14s 1ms/step - loss: 0.7298 - acc: 0.5962 - val_loss: 0.7154 - val_acc: 0.6122\n",
      "Epoch 19/100\n",
      "13593/13593 [==============================] - 11s 805us/step - loss: 0.7298 - acc: 0.5922 - val_loss: 0.7185 - val_acc: 0.6082\n",
      "Epoch 20/100\n",
      "13593/13593 [==============================] - 13s 955us/step - loss: 0.7285 - acc: 0.5956 - val_loss: 0.7185 - val_acc: 0.6168\n",
      "Epoch 21/100\n",
      "13593/13593 [==============================] - 13s 928us/step - loss: 0.7273 - acc: 0.5974 - val_loss: 0.7226 - val_acc: 0.6056\n",
      "Epoch 22/100\n",
      "13593/13593 [==============================] - 13s 944us/step - loss: 0.7261 - acc: 0.5999 - val_loss: 0.7160 - val_acc: 0.6248\n",
      "Epoch 23/100\n",
      "13593/13593 [==============================] - 14s 1ms/step - loss: 0.7254 - acc: 0.5975 - val_loss: 0.7143 - val_acc: 0.6241\n",
      "Epoch 24/100\n",
      "13593/13593 [==============================] - 11s 820us/step - loss: 0.7240 - acc: 0.5997 - val_loss: 0.7128 - val_acc: 0.6188\n",
      "Epoch 25/100\n",
      "13593/13593 [==============================] - 12s 860us/step - loss: 0.7240 - acc: 0.5959 - val_loss: 0.7198 - val_acc: 0.59890s - loss: 0.7242 - acc: 0.5\n",
      "Epoch 26/100\n",
      "13593/13593 [==============================] - 11s 825us/step - loss: 0.7229 - acc: 0.6052 - val_loss: 0.7168 - val_acc: 0.6221\n",
      "Epoch 27/100\n",
      "13593/13593 [==============================] - 11s 828us/step - loss: 0.7216 - acc: 0.6007 - val_loss: 0.7232 - val_acc: 0.6122\n",
      "Epoch 28/100\n",
      "13593/13593 [==============================] - 11s 832us/step - loss: 0.7216 - acc: 0.5991 - val_loss: 0.7177 - val_acc: 0.6201\n",
      "Epoch 29/100\n",
      "13593/13593 [==============================] - 13s 949us/step - loss: 0.7196 - acc: 0.6024 - val_loss: 0.7188 - val_acc: 0.6089\n",
      "Epoch 30/100\n",
      "13593/13593 [==============================] - 12s 854us/step - loss: 0.7196 - acc: 0.6044 - val_loss: 0.7160 - val_acc: 0.6214\n",
      "Epoch 31/100\n",
      "13593/13593 [==============================] - 12s 897us/step - loss: 0.7171 - acc: 0.6064 - val_loss: 0.7259 - val_acc: 0.6069\n",
      "Epoch 32/100\n",
      "13593/13593 [==============================] - 12s 881us/step - loss: 0.7151 - acc: 0.6080 - val_loss: 0.7206 - val_acc: 0.6214\n",
      "Epoch 33/100\n",
      "13593/13593 [==============================] - 13s 927us/step - loss: 0.7147 - acc: 0.6036 - val_loss: 0.7209 - val_acc: 0.6201\n",
      "Epoch 34/100\n",
      "13593/13593 [==============================] - 11s 826us/step - loss: 0.7140 - acc: 0.6078 - val_loss: 0.7234 - val_acc: 0.6075- acc: 0.\n",
      "Epoch 35/100\n",
      "13593/13593 [==============================] - 12s 902us/step - loss: 0.7107 - acc: 0.6107 - val_loss: 0.7272 - val_acc: 0.6155\n",
      "Epoch 36/100\n",
      "13593/13593 [==============================] - 12s 852us/step - loss: 0.7101 - acc: 0.6099 - val_loss: 0.7302 - val_acc: 0.6115s: 0.7109 - a\n",
      "Epoch 37/100\n",
      "13593/13593 [==============================] - 12s 902us/step - loss: 0.7088 - acc: 0.6149 - val_loss: 0.7287 - val_acc: 0.6056\n",
      "Epoch 38/100\n",
      "13593/13593 [==============================] - 12s 884us/step - loss: 0.7060 - acc: 0.6139 - val_loss: 0.7274 - val_acc: 0.6122\n",
      "Epoch 39/100\n",
      "13593/13593 [==============================] - 11s 833us/step - loss: 0.7038 - acc: 0.6188 - val_loss: 0.7321 - val_acc: 0.6036\n",
      "Epoch 40/100\n",
      "13593/13593 [==============================] - 12s 869us/step - loss: 0.7041 - acc: 0.6170 - val_loss: 0.7319 - val_acc: 0.6029\n",
      "Epoch 41/100\n",
      "13593/13593 [==============================] - 12s 848us/step - loss: 0.6995 - acc: 0.6237 - val_loss: 0.7362 - val_acc: 0.6009\n",
      "Epoch 42/100\n",
      "13593/13593 [==============================] - 12s 868us/step - loss: 0.6984 - acc: 0.6200 - val_loss: 0.7431 - val_acc: 0.5956\n",
      "Epoch 43/100\n",
      "13593/13593 [==============================] - 13s 934us/step - loss: 0.6964 - acc: 0.6243 - val_loss: 0.7484 - val_acc: 0.5864\n",
      "Epoch 44/100\n",
      "13593/13593 [==============================] - 11s 787us/step - loss: 0.6962 - acc: 0.6189 - val_loss: 0.7442 - val_acc: 0.5923\n",
      "Restoring model weights from the end of the best epoch\n",
      "Epoch 00044: early stopping\n",
      "808\n",
      "20190117 accuracy:  0.5829207920792079\n",
      "5342\n",
      "20190118 accuracy:  0.6271059528266567\n",
      "2570\n",
      "20190122 accuracy:  0.6167315175097277\n",
      "2944\n",
      "20190123 accuracy:  0.6100543478260869\n",
      "1759\n",
      "20190124 accuracy:  0.5758953951108584\n",
      "1610\n",
      "20190125 accuracy:  0.5788819875776398\n",
      "1428\n",
      "20190128 accuracy:  0.569327731092437\n",
      "1034\n",
      "20190129 accuracy:  0.5938104448742747\n",
      "2164\n",
      "20190130 accuracy:  0.572550831792976\n",
      "2679\n",
      "20190131 accuracy:  0.6002239641657335\n"
     ]
    },
    {
     "data": {
      "text/plain": [
       "<__main__.LSTM_Model at 0x1300e4a20>"
      ]
     },
     "execution_count": 6,
     "metadata": {},
     "output_type": "execute_result"
    }
   ],
   "source": [
    "lstm_model = LSTM_Model()\n",
    "lstm_model.build(time_steps = time_steps, data_dim = pipeline.x.shape[-1], output_dim = pipeline.y.shape[-1])\n",
    "pipeline.model_training_testing(ticker, lstm_model)"
   ]
  },
  {
   "cell_type": "code",
   "execution_count": 7,
   "metadata": {},
   "outputs": [
    {
     "name": "stdout",
     "output_type": "stream",
     "text": [
      "(15154, 50, 4) (15154, 3)\n"
     ]
    }
   ],
   "source": [
    "print(pipeline.x.shape, pipeline.y.shape)"
   ]
  },
  {
   "cell_type": "markdown",
   "metadata": {},
   "source": [
    "# CNN"
   ]
  },
  {
   "cell_type": "code",
   "execution_count": 8,
   "metadata": {
    "collapsed": true
   },
   "outputs": [],
   "source": [
    "from keras.layers import Dense, Conv2D, Flatten, Dropout\n",
    "from keras import regularizers"
   ]
  },
  {
   "cell_type": "code",
   "execution_count": 9,
   "metadata": {},
   "outputs": [],
   "source": [
    "hidden_dim = 30\n",
    "n_epochs = 100\n",
    "batch_size = 128\n",
    "activation = \"tanh\"\n",
    "loss = 'categorical_crossentropy'\n",
    "stop_patience=20\n",
    "\n",
    "dpi=200\n",
    "\n",
    "\n",
    "class CNN_Model():\n",
    "    def __init__(self):\n",
    "        self.model = Sequential()\n",
    "        self.model_name = \"CNN\"\n",
    "        return \n",
    "    \n",
    "    def build(self, time_steps = time_steps, data_dim = 1, output_dim = 3):\n",
    "        #add model layers\n",
    "        self.model.add(Conv2D(28, kernel_size=2, activation='relu', input_shape=(time_steps, data_dim, 1)))\n",
    "        self.model.add(Dropout(0.3))\n",
    "        self.model.add(Conv2D(28, kernel_size=2, activation='relu', kernel_regularizer=regularizers.l2(0.001)))\n",
    "        self.model.add(Dropout(0.3))\n",
    "        self.model.add(Flatten())\n",
    "        self.model.add(Dense(output_dim, activation='softmax'))\n",
    "        \n",
    "        opt=keras.optimizers.Adam(lr=0.002, beta_1=0.9, beta_2=0.999, epsilon=1e-08)\n",
    "        self.model.compile(loss = loss, optimizer=opt, metrics=['accuracy']) \n",
    "        return self.model\n",
    "    \n",
    "    def fit(self, x_train, y_train, batch_size, epochs, validation_data, callbacks):\n",
    "        return self.model.fit(x_train, y_train, batch_size = batch_size, epochs = epochs, validation_data = validation_data, callbacks = callbacks)\n",
    "    \n",
    "    def predict(self, x):\n",
    "        return self.model.predict(x)\n",
    "    \n",
    "    def reshape_dataset(self, x, y):\n",
    "        if x is not None:\n",
    "            if len(x.shape) == 3:\n",
    "                x = x.reshape(x.shape[0], x.shape[1], x.shape[2], 1)\n",
    "        if len(y.shape) == 1:\n",
    "            y = y.reshape(y.shape[0],1)\n",
    "        return x, y \n",
    "\n",
    "\n"
   ]
  },
  {
   "cell_type": "code",
   "execution_count": 10,
   "metadata": {},
   "outputs": [
    {
     "name": "stdout",
     "output_type": "stream",
     "text": [
      "train (13593, 50, 4, 1) (13593, 3)\n",
      "validation (1511, 50, 4, 1) (1511, 3)\n",
      "Train on 13593 samples, validate on 1511 samples\n",
      "Epoch 1/100\n",
      "13593/13593 [==============================] - 2s 134us/step - loss: 0.8470 - acc: 0.5050 - val_loss: 0.7981 - val_acc: 0.5539\n",
      "Epoch 2/100\n",
      "13593/13593 [==============================] - 1s 99us/step - loss: 0.7960 - acc: 0.5567 - val_loss: 0.7745 - val_acc: 0.5639\n",
      "Epoch 3/100\n",
      "13593/13593 [==============================] - 1s 100us/step - loss: 0.7765 - acc: 0.5746 - val_loss: 0.7725 - val_acc: 0.5698\n",
      "Epoch 4/100\n",
      "13593/13593 [==============================] - 1s 99us/step - loss: 0.7678 - acc: 0.5823 - val_loss: 0.7783 - val_acc: 0.5566\n",
      "Epoch 5/100\n",
      "13593/13593 [==============================] - 1s 106us/step - loss: 0.7600 - acc: 0.5871 - val_loss: 0.7692 - val_acc: 0.5692\n",
      "Epoch 6/100\n",
      "13593/13593 [==============================] - 2s 111us/step - loss: 0.7561 - acc: 0.5855 - val_loss: 0.7663 - val_acc: 0.5725\n",
      "Epoch 7/100\n",
      "13593/13593 [==============================] - 1s 107us/step - loss: 0.7531 - acc: 0.5877 - val_loss: 0.7616 - val_acc: 0.5678\n",
      "Epoch 8/100\n",
      "13593/13593 [==============================] - 2s 116us/step - loss: 0.7509 - acc: 0.5871 - val_loss: 0.7685 - val_acc: 0.5572\n",
      "Epoch 9/100\n",
      "13593/13593 [==============================] - 2s 117us/step - loss: 0.7477 - acc: 0.5916 - val_loss: 0.7639 - val_acc: 0.5606\n",
      "Epoch 10/100\n",
      "13593/13593 [==============================] - 2s 115us/step - loss: 0.7465 - acc: 0.5923 - val_loss: 0.7602 - val_acc: 0.5652\n",
      "Epoch 11/100\n",
      "13593/13593 [==============================] - 2s 126us/step - loss: 0.7461 - acc: 0.5905 - val_loss: 0.7637 - val_acc: 0.5692\n",
      "Epoch 12/100\n",
      "13593/13593 [==============================] - 2s 156us/step - loss: 0.7409 - acc: 0.5969 - val_loss: 0.7614 - val_acc: 0.5705\n",
      "Epoch 13/100\n",
      "13593/13593 [==============================] - 2s 122us/step - loss: 0.7408 - acc: 0.5938 - val_loss: 0.7630 - val_acc: 0.5632\n",
      "Epoch 14/100\n",
      "13593/13593 [==============================] - 1s 104us/step - loss: 0.7397 - acc: 0.5983 - val_loss: 0.7632 - val_acc: 0.5632\n",
      "Epoch 15/100\n",
      "13593/13593 [==============================] - 2s 169us/step - loss: 0.7410 - acc: 0.6020 - val_loss: 0.7647 - val_acc: 0.5586\n",
      "Epoch 16/100\n",
      "13593/13593 [==============================] - 2s 146us/step - loss: 0.7387 - acc: 0.6017 - val_loss: 0.7676 - val_acc: 0.5592\n",
      "Epoch 17/100\n",
      "13593/13593 [==============================] - 2s 116us/step - loss: 0.7356 - acc: 0.5974 - val_loss: 0.7660 - val_acc: 0.5652\n",
      "Epoch 18/100\n",
      "13593/13593 [==============================] - 1s 106us/step - loss: 0.7372 - acc: 0.5970 - val_loss: 0.7592 - val_acc: 0.5572\n",
      "Epoch 19/100\n",
      "13593/13593 [==============================] - 1s 106us/step - loss: 0.7316 - acc: 0.6075 - val_loss: 0.7607 - val_acc: 0.5652\n",
      "Epoch 20/100\n",
      "13593/13593 [==============================] - 1s 106us/step - loss: 0.7342 - acc: 0.6033 - val_loss: 0.7633 - val_acc: 0.5625\n",
      "Epoch 21/100\n",
      "13593/13593 [==============================] - 1s 106us/step - loss: 0.7353 - acc: 0.5971 - val_loss: 0.7621 - val_acc: 0.5738\n",
      "Epoch 22/100\n",
      "13593/13593 [==============================] - 1s 106us/step - loss: 0.7332 - acc: 0.6060 - val_loss: 0.7680 - val_acc: 0.5612\n",
      "Epoch 23/100\n",
      "13593/13593 [==============================] - 2s 111us/step - loss: 0.7306 - acc: 0.6083 - val_loss: 0.7652 - val_acc: 0.5599\n",
      "Epoch 24/100\n",
      "13593/13593 [==============================] - 2s 113us/step - loss: 0.7316 - acc: 0.6043 - val_loss: 0.7687 - val_acc: 0.5711\n",
      "Epoch 25/100\n",
      "13593/13593 [==============================] - 2s 115us/step - loss: 0.7303 - acc: 0.6070 - val_loss: 0.7625 - val_acc: 0.5625\n",
      "Epoch 26/100\n",
      "13593/13593 [==============================] - 2s 115us/step - loss: 0.7317 - acc: 0.6142 - val_loss: 0.7633 - val_acc: 0.5639\n",
      "Epoch 27/100\n",
      "13593/13593 [==============================] - 2s 116us/step - loss: 0.7305 - acc: 0.6088 - val_loss: 0.7690 - val_acc: 0.5520\n",
      "Epoch 28/100\n",
      "13593/13593 [==============================] - 2s 116us/step - loss: 0.7254 - acc: 0.6124 - val_loss: 0.7703 - val_acc: 0.5546\n",
      "Epoch 29/100\n",
      "13593/13593 [==============================] - 2s 117us/step - loss: 0.7293 - acc: 0.6056 - val_loss: 0.7669 - val_acc: 0.5606\n",
      "Epoch 30/100\n",
      "13593/13593 [==============================] - 2s 117us/step - loss: 0.7298 - acc: 0.6067 - val_loss: 0.7661 - val_acc: 0.5778\n",
      "Epoch 31/100\n",
      "13593/13593 [==============================] - 2s 117us/step - loss: 0.7289 - acc: 0.6109 - val_loss: 0.7684 - val_acc: 0.5685\n",
      "Epoch 32/100\n",
      "13593/13593 [==============================] - 2s 117us/step - loss: 0.7251 - acc: 0.6100 - val_loss: 0.7679 - val_acc: 0.5725\n",
      "Epoch 33/100\n",
      "13593/13593 [==============================] - 2s 115us/step - loss: 0.7257 - acc: 0.6132 - val_loss: 0.7731 - val_acc: 0.5599\n",
      "Epoch 34/100\n",
      "13593/13593 [==============================] - 2s 113us/step - loss: 0.7238 - acc: 0.6093 - val_loss: 0.7644 - val_acc: 0.5632\n",
      "Epoch 35/100\n",
      "13593/13593 [==============================] - 2s 113us/step - loss: 0.7247 - acc: 0.6145 - val_loss: 0.7683 - val_acc: 0.5811\n",
      "Epoch 36/100\n",
      "13593/13593 [==============================] - 2s 116us/step - loss: 0.7240 - acc: 0.6115 - val_loss: 0.7672 - val_acc: 0.5804\n",
      "Epoch 37/100\n",
      "13593/13593 [==============================] - 2s 113us/step - loss: 0.7243 - acc: 0.6137 - val_loss: 0.7706 - val_acc: 0.5685\n",
      "Epoch 38/100\n",
      "13593/13593 [==============================] - 2s 113us/step - loss: 0.7274 - acc: 0.6111 - val_loss: 0.7767 - val_acc: 0.5758\n",
      "Restoring model weights from the end of the best epoch\n",
      "Epoch 00038: early stopping\n",
      "808\n",
      "20190117 accuracy:  0.5767326732673267\n",
      "5342\n",
      "20190118 accuracy:  0.6093223511793335\n",
      "2570\n",
      "20190122 accuracy:  0.6042801556420233\n",
      "2944\n",
      "20190123 accuracy:  0.6063179347826086\n",
      "1759\n",
      "20190124 accuracy:  0.5764638999431495\n",
      "1610\n",
      "20190125 accuracy:  0.5819875776397515\n",
      "1428\n",
      "20190128 accuracy:  0.5882352941176471\n",
      "1034\n",
      "20190129 accuracy:  0.5870406189555126\n",
      "2164\n",
      "20190130 accuracy:  0.5670055452865065\n",
      "2679\n",
      "20190131 accuracy:  0.5908921239268383\n"
     ]
    },
    {
     "data": {
      "text/plain": [
       "<__main__.CNN_Model at 0x12f6968d0>"
      ]
     },
     "execution_count": 10,
     "metadata": {},
     "output_type": "execute_result"
    }
   ],
   "source": [
    "cnn_model = CNN_Model()\n",
    "cnn_model.build(time_steps = time_steps, data_dim = pipeline.x.shape[-1], output_dim = pipeline.y.shape[-1])\n",
    "pipeline.model_training_testing(ticker, cnn_model)"
   ]
  },
  {
   "cell_type": "markdown",
   "metadata": {},
   "source": [
    "# Random Forest"
   ]
  },
  {
   "cell_type": "code",
   "execution_count": 11,
   "metadata": {
    "collapsed": true
   },
   "outputs": [],
   "source": [
    "from sklearn.ensemble import RandomForestClassifier\n",
    "from sklearn.base import BaseEstimator, ClassifierMixin"
   ]
  },
  {
   "cell_type": "code",
   "execution_count": 12,
   "metadata": {
    "collapsed": true
   },
   "outputs": [],
   "source": [
    "class RandomForest():\n",
    "    def __init__(self,max_depth=50, n_estimators=100, max_features=0.36, criterion = 'gini'):\n",
    "        self.model = RandomForestClassifier(n_estimators=n_estimators, criterion = criterion, max_depth=max_depth,max_features=max_features)\n",
    "        self.model_name = \"Random_Forest\"\n",
    "    def fit(self,X,Y):\n",
    "        return self.model.fit(X,Y)\n",
    "    def predict(self,X):\n",
    "        return self.model.predict(X)\n",
    "    def reshape_dataset(self, x, y):\n",
    "        if x is not None:\n",
    "            if len(x.shape) == 3:\n",
    "                x = x.reshape(x.shape[0], x.shape[1]*x.shape[2])\n",
    "        if len(y.shape) == 1:\n",
    "            y = y.reshape(y.shape[0],1)\n",
    "        return x, y "
   ]
  },
  {
   "cell_type": "code",
   "execution_count": 13,
   "metadata": {},
   "outputs": [
    {
     "name": "stdout",
     "output_type": "stream",
     "text": [
      "train (13593, 200) (13593, 3)\n",
      "validation (1511, 200) (1511, 3)\n",
      "808\n",
      "20190117 accuracy:  0.5668316831683168\n",
      "5342\n",
      "20190118 accuracy:  0.6018345189067765\n",
      "2570\n",
      "20190122 accuracy:  0.5754863813229572\n",
      "2944\n",
      "20190123 accuracy:  0.5570652173913043\n",
      "1759\n",
      "20190124 accuracy:  0.5497441728254691\n",
      "1610\n",
      "20190125 accuracy:  0.5534161490683229\n",
      "1428\n",
      "20190128 accuracy:  0.561624649859944\n",
      "1034\n",
      "20190129 accuracy:  0.5444874274661509\n",
      "2164\n",
      "20190130 accuracy:  0.5605360443622921\n",
      "2679\n",
      "20190131 accuracy:  0.5602836879432624\n"
     ]
    },
    {
     "data": {
      "text/plain": [
       "<__main__.RandomForest at 0x131182908>"
      ]
     },
     "execution_count": 13,
     "metadata": {},
     "output_type": "execute_result"
    }
   ],
   "source": [
    "random_forest_model = RandomForest()\n",
    "pipeline.model_training_testing(ticker, random_forest_model)"
   ]
  },
  {
   "cell_type": "markdown",
   "metadata": {},
   "source": [
    "# GradientBoost"
   ]
  },
  {
   "cell_type": "code",
   "execution_count": 14,
   "metadata": {
    "collapsed": true
   },
   "outputs": [],
   "source": [
    "from sklearn.ensemble import GradientBoostingClassifier"
   ]
  },
  {
   "cell_type": "code",
   "execution_count": 15,
   "metadata": {},
   "outputs": [],
   "source": [
    "class GradientBoost():\n",
    "    def __init__(self):\n",
    "        self.model = GradientBoostingClassifier(n_estimators=100,max_depth=50,learning_rate=0.05)\n",
    "        self.model_name = \"GradientBoost\"\n",
    "    def fit(self,X,Y):\n",
    "        return self.model.fit(X,Y)\n",
    "    def predict(self,X):\n",
    "        return self.model.predict(X)\n",
    "    def reshape_dataset(self, x, y):\n",
    "        if x is not None:\n",
    "            if len(x.shape) == 3:\n",
    "                x = x.reshape(x.shape[0], x.shape[1]*x.shape[2])\n",
    "        if len(y.shape) != 1:\n",
    "            y = np.where(y==1)[1]\n",
    "            y = y.reshape(y.shape[0],1)\n",
    "        return x, y "
   ]
  },
  {
   "cell_type": "code",
   "execution_count": 16,
   "metadata": {},
   "outputs": [
    {
     "name": "stdout",
     "output_type": "stream",
     "text": [
      "train (13593, 200) (13593, 1)\n",
      "validation (1511, 200) (1511, 1)\n"
     ]
    },
    {
     "name": "stderr",
     "output_type": "stream",
     "text": [
      "/Users/xunyingluo/anaconda3/envs/py36/lib/python3.6/site-packages/sklearn/ensemble/_gb.py:1454: DataConversionWarning: A column-vector y was passed when a 1d array was expected. Please change the shape of y to (n_samples, ), for example using ravel().\n",
      "  y = column_or_1d(y, warn=True)\n"
     ]
    },
    {
     "name": "stdout",
     "output_type": "stream",
     "text": [
      "808\n",
      "20190117 accuracy:  0.4705788648171748\n",
      "5342\n",
      "20190118 accuracy:  0.4431085591305368\n",
      "2570\n",
      "20190122 accuracy:  0.4575254735120895\n",
      "2944\n",
      "20190123 accuracy:  0.4563669013616493\n",
      "1759\n",
      "20190124 accuracy:  0.4690888829348682\n",
      "1610\n",
      "20190125 accuracy:  0.4700721422784615\n",
      "1428\n",
      "20190128 accuracy:  0.4673781277216769\n",
      "1034\n",
      "20190129 accuracy:  0.4744555518558564\n",
      "2164\n",
      "20190130 accuracy:  0.4716513029544111\n",
      "2679\n",
      "20190131 accuracy:  0.4728643740505314\n"
     ]
    },
    {
     "data": {
      "text/plain": [
       "<__main__.GradientBoost at 0x135b9fe10>"
      ]
     },
     "execution_count": 16,
     "metadata": {},
     "output_type": "execute_result"
    }
   ],
   "source": [
    "gradient_boost_model=GradientBoost()\n",
    "pipeline.model_training_testing(ticker, gradient_boost_model)"
   ]
  },
  {
   "cell_type": "markdown",
   "metadata": {},
   "source": [
    "# XGBOOST"
   ]
  },
  {
   "cell_type": "code",
   "execution_count": 17,
   "metadata": {
    "collapsed": true
   },
   "outputs": [],
   "source": [
    "from xgboost import XGBClassifier"
   ]
  },
  {
   "cell_type": "code",
   "execution_count": 18,
   "metadata": {
    "collapsed": true
   },
   "outputs": [],
   "source": [
    "class XGBoost():\n",
    "    def __init__(self):\n",
    "        self.model =XGBClassifier(n_estimators=100, max_depth=50,learning_rate=0.1,reg_lambda=0.1, verbose=True)\n",
    "        self.model_name = \"XGBoost\"\n",
    "    def fit(self,X,Y):\n",
    "        return self.model.fit(X,Y)\n",
    "    def predict(self,X):\n",
    "        return self.model.predict(X)\n",
    "    def reshape_dataset(self, x, y):\n",
    "        if x is not None:\n",
    "            if len(x.shape) == 3:\n",
    "                x = x.reshape(x.shape[0], x.shape[1]*x.shape[2])\n",
    "        if len(y.shape) != 1:\n",
    "            y = np.where(y==1)[1]\n",
    "            y = y.reshape(y.shape[0],1)\n",
    "        return x, y "
   ]
  },
  {
   "cell_type": "code",
   "execution_count": 19,
   "metadata": {},
   "outputs": [
    {
     "name": "stdout",
     "output_type": "stream",
     "text": [
      "train (13593, 200) (13593, 1)\n",
      "validation (1511, 200) (1511, 1)\n"
     ]
    },
    {
     "name": "stderr",
     "output_type": "stream",
     "text": [
      "/Users/xunyingluo/anaconda3/envs/py36/lib/python3.6/site-packages/sklearn/preprocessing/_label.py:235: DataConversionWarning: A column-vector y was passed when a 1d array was expected. Please change the shape of y to (n_samples, ), for example using ravel().\n",
      "  y = column_or_1d(y, warn=True)\n",
      "/Users/xunyingluo/anaconda3/envs/py36/lib/python3.6/site-packages/sklearn/preprocessing/_label.py:268: DataConversionWarning: A column-vector y was passed when a 1d array was expected. Please change the shape of y to (n_samples, ), for example using ravel().\n",
      "  y = column_or_1d(y, warn=True)\n"
     ]
    },
    {
     "name": "stdout",
     "output_type": "stream",
     "text": [
      "808\n",
      "20190117 accuracy:  0.4759168831487109\n",
      "5342\n",
      "20190118 accuracy:  0.44006187904221344\n",
      "2570\n",
      "20190122 accuracy:  0.45840951414858666\n",
      "2944\n",
      "20190123 accuracy:  0.4533021057936555\n",
      "1759\n",
      "20190124 accuracy:  0.46732196086657074\n",
      "1610\n",
      "20190125 accuracy:  0.4807237375101269\n",
      "1428\n",
      "20190128 accuracy:  0.47436474589835936\n",
      "1034\n",
      "20190129 accuracy:  0.48657539217850343\n",
      "2164\n",
      "20190130 accuracy:  0.47443248793054554\n",
      "2679\n",
      "20190131 accuracy:  0.4735002907186959\n"
     ]
    },
    {
     "data": {
      "text/plain": [
       "<__main__.XGBoost at 0x133115390>"
      ]
     },
     "execution_count": 19,
     "metadata": {},
     "output_type": "execute_result"
    }
   ],
   "source": [
    "xgboost_model=XGBoost()\n",
    "pipeline.model_training_testing(ticker, xgboost_model)"
   ]
  },
  {
   "cell_type": "markdown",
   "metadata": {},
   "source": [
    "#  Tick Factor"
   ]
  },
  {
   "cell_type": "code",
   "execution_count": 20,
   "metadata": {},
   "outputs": [
    {
     "name": "stdout",
     "output_type": "stream",
     "text": [
      "Accuracy of 20190117 0.4707643580036127\n",
      "Accuracy of 20190118 0.43095347731518396\n",
      "Accuracy of 20190122 0.4555151005928208\n",
      "Accuracy of 20190123 0.45868338302510847\n",
      "Accuracy of 20190124 0.4674517203359969\n",
      "Accuracy of 20190125 0.463677230280151\n",
      "Accuracy of 20190128 0.48354217710885544\n",
      "Accuracy of 20190129 0.45997873779839565\n",
      "Accuracy of 20190130 0.45219857893910137\n",
      "Accuracy of 20190131 0.4725264061508603\n"
     ]
    }
   ],
   "source": [
    "# TICK FACTOR\n",
    "# only update if it's a trade\n",
    "# if message_type == 't':\n",
    "#     # calc the tick\n",
    "#     this_tick = np.sign(last_price - prev_price)\n",
    "#     if this_tick == 0:\n",
    "#         this_tick = prev_tick\n",
    "\n",
    "#     # now calc the tick\n",
    "#     if tick_factor == 0:\n",
    "#         tick_factor = this_tick\n",
    "#     else:\n",
    "#         tick_factor = (tick_ema_alpha * this_tick) + (1 - tick_ema_alpha) * tick_factor\n",
    "\n",
    "#         # store the last tick\n",
    "#     prev_tick = this_tick\n",
    "\n",
    "for test_date in test_date_list:\n",
    "    df = pd.read_csv(data_dir+'trades_{}_{}.csv'.format(test_date, ticker),index_col=[0],parse_dates=[0])\n",
    "    \n",
    "    df[\"tick_test\"]=(df[\"trade_px\"]-df[\"trade_px\"].shift(1)).apply(lambda x: 1 if x>0. else (-1. if x<0 else np.nan))\n",
    "    df.fillna(method=\"ffill\",inplace=True)\n",
    "    \n",
    "    df[\"tick_factor\"]=df[\"tick_test\"].ewm(span=20).mean()\n",
    "    df.dropna(axis=0,inplace=True)\n",
    "    \n",
    "    mysign = lambda x: 0 if abs(x)<1e-5 else (1 if x>0 else -1)\n",
    "    df[\"predict\"]=df[\"tick_factor\"].apply(mysign)\n",
    "    df[\"real_movement\"]=(df[\"trade_px\"].rolling(nforward).mean().shift(-nforward)-df[\"trade_px\"]).apply(mysign)\n",
    "    \n",
    "    df.dropna(axis=0,inplace=True)\n",
    "    acc=np.mean(df[\"predict\"]==df[\"real_movement\"])\n",
    "    print(\"Accuracy of {}\".format(test_date),acc)\n"
   ]
  },
  {
   "cell_type": "code",
   "execution_count": 21,
   "metadata": {},
   "outputs": [
    {
     "name": "stdout",
     "output_type": "stream",
     "text": [
      "Average time interval between 10 trades is 0 days 00:00:02.094658\n"
     ]
    }
   ],
   "source": [
    "sum=pd.Timedelta(0)\n",
    "count=0\n",
    "for test_date in test_date_list:\n",
    "    df = pd.read_csv(data_dir+'trades_{}_{}.csv'.format(test_date, ticker),index_col=[0],parse_dates=[0])\n",
    "    timestamp=pd.DataFrame({\"trade_time\":df.index})\n",
    "    dt=timestamp[\"trade_time\"].shift(-nforward)-timestamp[\"trade_time\"]\n",
    "    dt.dropna(axis=0,inplace=True)\n",
    "    dt.apply(lambda x:x.seconds).hist()\n",
    "    sum+=dt.sum()\n",
    "    count+=dt.shape[0]\n",
    "print(\"Average time interval between {} trades is\".format(nforward),sum/count)"
   ]
  },
  {
   "cell_type": "code",
   "execution_count": null,
   "metadata": {
    "collapsed": true
   },
   "outputs": [],
   "source": []
  },
  {
   "cell_type": "code",
   "execution_count": null,
   "metadata": {
    "collapsed": true
   },
   "outputs": [],
   "source": []
  }
 ],
 "metadata": {
  "kernelspec": {
   "display_name": "Python 3",
   "language": "python",
   "name": "python3"
  },
  "language_info": {
   "codemirror_mode": {
    "name": "ipython",
    "version": 3
   },
   "file_extension": ".py",
   "mimetype": "text/x-python",
   "name": "python",
   "nbconvert_exporter": "python",
   "pygments_lexer": "ipython3",
   "version": "3.6.9"
  },
  "toc": {
   "base_numbering": 1,
   "nav_menu": {},
   "number_sections": true,
   "sideBar": true,
   "skip_h1_title": false,
   "title_cell": "Table of Contents",
   "title_sidebar": "Contents",
   "toc_cell": false,
   "toc_position": {},
   "toc_section_display": true,
   "toc_window_display": false
  }
 },
 "nbformat": 4,
 "nbformat_minor": 2
}
